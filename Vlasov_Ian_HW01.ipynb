{
 "cells": [
  {
   "cell_type": "code",
   "execution_count": 1,
   "metadata": {},
   "outputs": [],
   "source": [
    "import torch\n",
    "import torchvision\n",
    "import numpy as np\n",
    "\n",
    "from torch import nn \n",
    "from torch import optim\n",
    "from torch.utils import data\n",
    "\n",
    "# реализация критерия ранней остановки\n",
    "from tools.pytorchtools import EarlyStopping\n",
    "\n",
    "import torchvision.transforms as transforms\n",
    "import matplotlib.pyplot as plt"
   ]
  },
  {
   "cell_type": "code",
   "execution_count": 2,
   "metadata": {},
   "outputs": [],
   "source": [
    "import warnings\n",
    "warnings.filterwarnings('ignore')"
   ]
  },
  {
   "cell_type": "markdown",
   "metadata": {},
   "source": [
    "## Задание 1"
   ]
  },
  {
   "cell_type": "markdown",
   "metadata": {},
   "source": [
    "Добиться вразумительного результата от модели, собранной на занятии (7 угаданныx картинок из 10 предложенных на семинаре).\n",
    "\n",
    "Реализованные идеи (проверял поэтапно, постепенно улучшая скор):\n",
    "* Добавил валидационный набор данных, чтобы отслеживать лосс не только на тренировочных данных\n",
    "* Добавил раннюю остановку и обучал до тех пор пока качество на валидации не начнет падать\n",
    "* За базовую модель взял модель, состоящую из 3 VGG блоков с 32, 64 и 128 наборами параметров соответственно\n",
    "* Добавил предобработку:\n",
    "    - нормализовал значения в тензоре при помощи среднего и стандартного отклонения по всей выборке\n",
    "    - добавил несложную аугментацию: 30 процентов вероятность отразить картинку по вертикали и горизонтали\n",
    "* Заменил оптимизатор на Adam. Он адаптивный, быстрее сходится и в нем не так сильна зависимость размера батча и скорости обучения\n",
    "* Добавил в модель dropout слои. Пробовал различные конфигурации с константным и постепенно возрастающим шансом отбросить нейрон. Лучше сработало в варианте с постепенным возрастанием\n",
    "* Добавил нормализацию батча после каждого слоя. Пробовал в двух вариантах: до и после ReLu, так как однозначного ответа, как лучше это делать не нашел. Лучше сработало при добавлении после функции активации\n",
    "* Пробовал заменить пулинговые слои на свертку со страйдом. Идея была получить еще один обучаемый слой, который по размерностям работал бы аналогично пулингу, но эффекта это не дало\n",
    "\n",
    "Финальный скор модели на тестовой выборке: 84.29%"
   ]
  },
  {
   "cell_type": "code",
   "execution_count": 3,
   "metadata": {},
   "outputs": [
    {
     "name": "stdout",
     "output_type": "stream",
     "text": [
      "cuda:0\n"
     ]
    }
   ],
   "source": [
    "device = torch.device(\"cuda:0\" if torch.cuda.is_available() else \"cpu\")\n",
    "print(device)"
   ]
  },
  {
   "cell_type": "code",
   "execution_count": 4,
   "metadata": {},
   "outputs": [],
   "source": [
    "# основные параметры\n",
    "batch_size = 2048\n",
    "n_epochs = 400\n",
    "num_classes = 10\n",
    "patience = 10"
   ]
  },
  {
   "cell_type": "code",
   "execution_count": 5,
   "metadata": {},
   "outputs": [],
   "source": [
    "classes = ('plane', 'car', 'bird', 'cat',\n",
    "           'deer', 'dog', 'frog', 'horse', 'ship', 'truck')"
   ]
  },
  {
   "cell_type": "code",
   "execution_count": 6,
   "metadata": {},
   "outputs": [],
   "source": [
    "rgb_mean = (0.4914, 0.4822, 0.4465)\n",
    "rgb_std = (0.2470, 0.2435, 0.2616)\n",
    "\n",
    "train_transform = transforms.Compose([\n",
    "    transforms.ToTensor(),\n",
    "    transforms.Normalize(rgb_mean, \n",
    "                         rgb_std),\n",
    "    transforms.RandomHorizontalFlip(p=0.3),\n",
    "    transforms.RandomVerticalFlip(p=0.3),\n",
    "])\n",
    "\n",
    "test_transform = transforms.Compose([\n",
    "    transforms.ToTensor(),\n",
    "    transforms.Normalize(rgb_mean, \n",
    "                         rgb_std),\n",
    "])"
   ]
  },
  {
   "cell_type": "code",
   "execution_count": 7,
   "metadata": {
    "scrolled": true
   },
   "outputs": [
    {
     "name": "stdout",
     "output_type": "stream",
     "text": [
      "Files already downloaded and verified\n",
      "Files already downloaded and verified\n"
     ]
    }
   ],
   "source": [
    "# скачиваем датасеты\n",
    "train_dataset = torchvision.datasets.CIFAR10(root='./data',\n",
    "                                             train=True,  \n",
    "                                             transform=train_transform,\n",
    "                                             download=True)\n",
    "\n",
    "test_dataset = torchvision.datasets.CIFAR10(root='./data', train=False,\n",
    "                                       download=True, transform=test_transform)"
   ]
  },
  {
   "cell_type": "code",
   "execution_count": 8,
   "metadata": {},
   "outputs": [],
   "source": [
    "# Устнанавливаем размер тренировочной и валидационной выборок\n",
    "train_size = int(0.7 * len(train_dataset))\n",
    "val_size = len(train_dataset) - train_size"
   ]
  },
  {
   "cell_type": "code",
   "execution_count": 9,
   "metadata": {},
   "outputs": [],
   "source": [
    "# Разделение на train-validation\n",
    "train_set, val_set = torch.utils.data.random_split(train_dataset, [train_size, val_size])"
   ]
  },
  {
   "cell_type": "code",
   "execution_count": 10,
   "metadata": {},
   "outputs": [
    {
     "name": "stdout",
     "output_type": "stream",
     "text": [
      "tensor([0.4914, 0.4822, 0.4465])\n",
      "tensor([0.2470, 0.2435, 0.2616])\n"
     ]
    }
   ],
   "source": [
    "# Откуда взялись значения для нормализации\n",
    "mean_train = torch.mean(torch.Tensor.float(torch.from_numpy(train_set.dataset.data) / 255), dim=(0, 1, 2))\n",
    "std_train = torch.std(torch.Tensor.float(torch.from_numpy(train_set.dataset.data) / 255), dim=(0, 1, 2))\n",
    "\n",
    "print(mean_train)\n",
    "print(std_train)"
   ]
  },
  {
   "cell_type": "code",
   "execution_count": 11,
   "metadata": {},
   "outputs": [],
   "source": [
    "train_loader = data.DataLoader(train_set, batch_size = batch_size, shuffle = True)\n",
    "val_loader = data.DataLoader(val_set, batch_size = batch_size, shuffle = True)\n",
    "test_loader = data.DataLoader(test_dataset, batch_size = batch_size, shuffle = True)"
   ]
  },
  {
   "cell_type": "code",
   "execution_count": 12,
   "metadata": {},
   "outputs": [],
   "source": [
    "import torch.nn.functional as F\n",
    "\n",
    "\n",
    "class Net(nn.Module):\n",
    "    def __init__(self):\n",
    "        super().__init__()\n",
    "        self.pool = nn.MaxPool2d(2, 2)\n",
    "        self.flatten = nn.Flatten()\n",
    "        \n",
    "        self.conv1 = nn.Conv2d(3, 32, 3, padding=1)\n",
    "        self.conv11 = nn.Conv2d(32, 32, 3, padding=1)\n",
    "        self.conv2 = nn.Conv2d(32, 64, 3, padding=1)\n",
    "        self.conv21 = nn.Conv2d(64, 64, 3, padding=1)\n",
    "        self.conv3 = nn.Conv2d(64, 128, 3, padding=1)\n",
    "        self.conv31 = nn.Conv2d(128, 128, 3, padding=1)\n",
    "        \n",
    "        self.bnorm1 = nn.BatchNorm2d(32)\n",
    "        self.bnorm11 = nn.BatchNorm2d(32)\n",
    "        self.bnorm2 = nn.BatchNorm2d(64)\n",
    "        self.bnorm21 = nn.BatchNorm2d(64)\n",
    "        self.bnorm3 = nn.BatchNorm2d(128)\n",
    "        self.bnorm31 = nn.BatchNorm2d(128)\n",
    "        self.bnorm4 = nn.BatchNorm1d(128)\n",
    "\n",
    "        \n",
    "        self.dropout1 = nn.Dropout2d(0.2)\n",
    "        self.dropout2 = nn.Dropout2d(0.3)\n",
    "        self.dropout3 = nn.Dropout2d(0.4)\n",
    "        self.dropout4 = nn.Dropout(0.5)\n",
    "        \n",
    "        self.fc1 = nn.Linear(128 * 4 * 4, 128)\n",
    "        self.fc2 = nn.Linear(128, 10)\n",
    "\n",
    "    def forward(self, x):\n",
    "\n",
    "        x = F.relu(self.conv1(x))\n",
    "        x = self.bnorm1(x)\n",
    "        x = F.relu(self.conv11(x))\n",
    "        x = self.bnorm11(x)\n",
    "        x = self.pool(x)\n",
    "        x = self.dropout1(x)\n",
    "        \n",
    "        x = F.relu(self.conv2(x))\n",
    "        x = self.bnorm2(x)\n",
    "        x = F.relu(self.conv21(x))\n",
    "        x = self.bnorm21(x)\n",
    "        x = self.pool(x)\n",
    "        x = self.dropout2(x)\n",
    "        \n",
    "        x = F.relu(self.conv3(x))\n",
    "        x = self.bnorm3(x)\n",
    "        x = F.relu(self.conv31(x))\n",
    "        x = self.bnorm31(x)\n",
    "        x = self.pool(x)\n",
    "        x = self.dropout3(x)\n",
    "        \n",
    "        x = self.flatten(x)\n",
    "        x = F.relu(self.fc1(x))\n",
    "        x = self.bnorm4(x)\n",
    "        x = self.dropout4(x)\n",
    "        x = self.fc2(x)\n",
    "        return x\n",
    "\n",
    "\n",
    "net = Net().to(device)"
   ]
  },
  {
   "cell_type": "code",
   "execution_count": 13,
   "metadata": {},
   "outputs": [],
   "source": [
    "criterion = nn.CrossEntropyLoss()\n",
    "optimizer = optim.Adam(net.parameters())"
   ]
  },
  {
   "cell_type": "code",
   "execution_count": 14,
   "metadata": {},
   "outputs": [],
   "source": [
    "def train_model(model, patience, n_epochs, device): \n",
    "    \"\"\"Function trains given model during n_epochs with early stopping\n",
    "    criteria: train stops if validation loss does not decrease \n",
    "    during {patience} epochs.\n",
    "    For correct work 'train_loader' and 'val_loader' must be defined\n",
    "    \n",
    "    Input\n",
    "    -----\n",
    "    model: neural network for training\n",
    "    patience: int, number of epochs for early stopping\n",
    "    n_epochs: int, number of epochs for training\n",
    "    device: torch.device\n",
    "    \n",
    "    Output\n",
    "    ------\n",
    "    model: neural network loaded from checkpoint.pt.\n",
    "           Last step of model when validation loss decreased\n",
    "    avg_train_losses: list with average values of loss function \n",
    "                      during training through epochs\n",
    "    avg_valid_losses: list with average values of loss function \n",
    "                      during validating through epochs\n",
    "    \"\"\"\n",
    "    train_losses = []\n",
    "    valid_losses = []\n",
    "    avg_train_losses = []\n",
    "    avg_valid_losses = [] \n",
    "    \n",
    "    early_stopping = EarlyStopping(patience=patience, verbose=True)\n",
    "    \n",
    "    for epoch in range(1, n_epochs + 1):\n",
    "\n",
    "        ###################\n",
    "        # train the model #\n",
    "        ###################\n",
    "        model.train()\n",
    "        for batch, data in enumerate(train_loader, 1):\n",
    "            data, target = data[0].to(device), data[1].to(device)\n",
    "            optimizer.zero_grad()\n",
    "            output = model(data)\n",
    "            loss = criterion(output, target)\n",
    "            loss.backward()\n",
    "            optimizer.step()\n",
    "            train_losses.append(loss.item())\n",
    "\n",
    "        ######################    \n",
    "        # validate the model #\n",
    "        ######################\n",
    "        model.eval()\n",
    "        for data in val_loader:\n",
    "            data, target = data[0].to(device), data[1].to(device)\n",
    "            output = model(data)\n",
    "            loss = criterion(output, target)\n",
    "            valid_losses.append(loss.item())\n",
    "\n",
    "        # print training/validation statistics \n",
    "        # calculate average loss over an epoch\n",
    "        train_loss = np.average(train_losses)\n",
    "        valid_loss = np.average(valid_losses)\n",
    "        avg_train_losses.append(train_loss)\n",
    "        avg_valid_losses.append(valid_loss)\n",
    "        \n",
    "        epoch_len = len(str(n_epochs))\n",
    "        \n",
    "        print_msg = (f'[{epoch:>{epoch_len}}/{n_epochs:>{epoch_len}}] ' +\n",
    "                     f'train_loss: {train_loss:.5f} ' +\n",
    "                     f'valid_loss: {valid_loss:.5f}')\n",
    "        \n",
    "        print(print_msg)\n",
    "        \n",
    "        # clear lists to track next epoch\n",
    "        train_losses = []\n",
    "        valid_losses = []\n",
    "        \n",
    "        # early_stopping needs the validation loss to check if it has decresed, \n",
    "        # and if it has, it will make a checkpoint of the current model\n",
    "        early_stopping(valid_loss, model)\n",
    "        \n",
    "        if early_stopping.early_stop:\n",
    "            print(\"Early stopping\")\n",
    "            break\n",
    "        \n",
    "    # load the last checkpoint with the best model\n",
    "    model.load_state_dict(torch.load('checkpoint.pt'))\n",
    "\n",
    "    return  model, avg_train_losses, avg_valid_losses"
   ]
  },
  {
   "cell_type": "code",
   "execution_count": 15,
   "metadata": {
    "scrolled": true
   },
   "outputs": [
    {
     "name": "stdout",
     "output_type": "stream",
     "text": [
      "[  1/400] train_loss: 2.00869 valid_loss: 2.51237\n",
      "Validation loss decreased (inf --> 2.512373).  Saving model ...\n",
      "[  2/400] train_loss: 1.69349 valid_loss: 1.58187\n",
      "Validation loss decreased (2.512373 --> 1.581870).  Saving model ...\n",
      "[  3/400] train_loss: 1.55968 valid_loss: 1.39346\n",
      "Validation loss decreased (1.581870 --> 1.393457).  Saving model ...\n",
      "[  4/400] train_loss: 1.46901 valid_loss: 1.28735\n",
      "Validation loss decreased (1.393457 --> 1.287346).  Saving model ...\n",
      "[  5/400] train_loss: 1.39570 valid_loss: 1.24249\n",
      "Validation loss decreased (1.287346 --> 1.242485).  Saving model ...\n",
      "[  6/400] train_loss: 1.34102 valid_loss: 1.18709\n",
      "Validation loss decreased (1.242485 --> 1.187086).  Saving model ...\n",
      "[  7/400] train_loss: 1.27046 valid_loss: 1.13669\n",
      "Validation loss decreased (1.187086 --> 1.136685).  Saving model ...\n",
      "[  8/400] train_loss: 1.22375 valid_loss: 1.08338\n",
      "Validation loss decreased (1.136685 --> 1.083378).  Saving model ...\n",
      "[  9/400] train_loss: 1.18799 valid_loss: 1.02939\n",
      "Validation loss decreased (1.083378 --> 1.029387).  Saving model ...\n",
      "[ 10/400] train_loss: 1.14570 valid_loss: 0.99464\n",
      "Validation loss decreased (1.029387 --> 0.994641).  Saving model ...\n",
      "[ 11/400] train_loss: 1.11478 valid_loss: 0.96732\n",
      "Validation loss decreased (0.994641 --> 0.967323).  Saving model ...\n",
      "[ 12/400] train_loss: 1.07579 valid_loss: 0.95012\n",
      "Validation loss decreased (0.967323 --> 0.950117).  Saving model ...\n",
      "[ 13/400] train_loss: 1.05558 valid_loss: 0.90356\n",
      "Validation loss decreased (0.950117 --> 0.903560).  Saving model ...\n",
      "[ 14/400] train_loss: 1.02294 valid_loss: 0.91986\n",
      "EarlyStopping counter: 1 out of 10\n",
      "[ 15/400] train_loss: 1.00478 valid_loss: 0.90156\n",
      "Validation loss decreased (0.903560 --> 0.901561).  Saving model ...\n",
      "[ 16/400] train_loss: 0.98351 valid_loss: 0.86397\n",
      "Validation loss decreased (0.901561 --> 0.863972).  Saving model ...\n",
      "[ 17/400] train_loss: 0.95913 valid_loss: 0.83087\n",
      "Validation loss decreased (0.863972 --> 0.830873).  Saving model ...\n",
      "[ 18/400] train_loss: 0.93687 valid_loss: 0.81027\n",
      "Validation loss decreased (0.830873 --> 0.810272).  Saving model ...\n",
      "[ 19/400] train_loss: 0.93136 valid_loss: 0.81717\n",
      "EarlyStopping counter: 1 out of 10\n",
      "[ 20/400] train_loss: 0.91008 valid_loss: 0.78758\n",
      "Validation loss decreased (0.810272 --> 0.787584).  Saving model ...\n",
      "[ 21/400] train_loss: 0.89715 valid_loss: 0.78341\n",
      "Validation loss decreased (0.787584 --> 0.783407).  Saving model ...\n",
      "[ 22/400] train_loss: 0.87073 valid_loss: 0.75696\n",
      "Validation loss decreased (0.783407 --> 0.756961).  Saving model ...\n",
      "[ 23/400] train_loss: 0.85257 valid_loss: 0.75157\n",
      "Validation loss decreased (0.756961 --> 0.751569).  Saving model ...\n",
      "[ 24/400] train_loss: 0.86044 valid_loss: 0.75435\n",
      "EarlyStopping counter: 1 out of 10\n",
      "[ 25/400] train_loss: 0.83319 valid_loss: 0.74250\n",
      "Validation loss decreased (0.751569 --> 0.742502).  Saving model ...\n",
      "[ 26/400] train_loss: 0.81637 valid_loss: 0.71994\n",
      "Validation loss decreased (0.742502 --> 0.719937).  Saving model ...\n",
      "[ 27/400] train_loss: 0.80842 valid_loss: 0.72176\n",
      "EarlyStopping counter: 1 out of 10\n",
      "[ 28/400] train_loss: 0.80015 valid_loss: 0.71892\n",
      "Validation loss decreased (0.719937 --> 0.718918).  Saving model ...\n",
      "[ 29/400] train_loss: 0.80397 valid_loss: 0.70946\n",
      "Validation loss decreased (0.718918 --> 0.709457).  Saving model ...\n",
      "[ 30/400] train_loss: 0.79208 valid_loss: 0.69072\n",
      "Validation loss decreased (0.709457 --> 0.690721).  Saving model ...\n",
      "[ 31/400] train_loss: 0.77469 valid_loss: 0.69230\n",
      "EarlyStopping counter: 1 out of 10\n",
      "[ 32/400] train_loss: 0.77221 valid_loss: 0.69294\n",
      "EarlyStopping counter: 2 out of 10\n",
      "[ 33/400] train_loss: 0.76436 valid_loss: 0.66891\n",
      "Validation loss decreased (0.690721 --> 0.668912).  Saving model ...\n",
      "[ 34/400] train_loss: 0.75791 valid_loss: 0.66951\n",
      "EarlyStopping counter: 1 out of 10\n",
      "[ 35/400] train_loss: 0.75759 valid_loss: 0.66290\n",
      "Validation loss decreased (0.668912 --> 0.662897).  Saving model ...\n",
      "[ 36/400] train_loss: 0.73637 valid_loss: 0.66822\n",
      "EarlyStopping counter: 1 out of 10\n",
      "[ 37/400] train_loss: 0.73210 valid_loss: 0.64707\n",
      "Validation loss decreased (0.662897 --> 0.647073).  Saving model ...\n",
      "[ 38/400] train_loss: 0.72685 valid_loss: 0.64291\n",
      "Validation loss decreased (0.647073 --> 0.642907).  Saving model ...\n",
      "[ 39/400] train_loss: 0.71606 valid_loss: 0.64353\n",
      "EarlyStopping counter: 1 out of 10\n",
      "[ 40/400] train_loss: 0.70955 valid_loss: 0.64272\n",
      "Validation loss decreased (0.642907 --> 0.642719).  Saving model ...\n",
      "[ 41/400] train_loss: 0.71175 valid_loss: 0.63320\n",
      "Validation loss decreased (0.642719 --> 0.633204).  Saving model ...\n",
      "[ 42/400] train_loss: 0.70149 valid_loss: 0.65133\n",
      "EarlyStopping counter: 1 out of 10\n",
      "[ 43/400] train_loss: 0.69245 valid_loss: 0.63587\n",
      "EarlyStopping counter: 2 out of 10\n",
      "[ 44/400] train_loss: 0.69177 valid_loss: 0.61276\n",
      "Validation loss decreased (0.633204 --> 0.612761).  Saving model ...\n",
      "[ 45/400] train_loss: 0.69145 valid_loss: 0.63676\n",
      "EarlyStopping counter: 1 out of 10\n",
      "[ 46/400] train_loss: 0.68017 valid_loss: 0.61167\n",
      "Validation loss decreased (0.612761 --> 0.611673).  Saving model ...\n",
      "[ 47/400] train_loss: 0.68335 valid_loss: 0.61532\n",
      "EarlyStopping counter: 1 out of 10\n",
      "[ 48/400] train_loss: 0.67587 valid_loss: 0.61168\n",
      "EarlyStopping counter: 2 out of 10\n",
      "[ 49/400] train_loss: 0.65984 valid_loss: 0.60690\n",
      "Validation loss decreased (0.611673 --> 0.606902).  Saving model ...\n",
      "[ 50/400] train_loss: 0.66856 valid_loss: 0.61130\n",
      "EarlyStopping counter: 1 out of 10\n",
      "[ 51/400] train_loss: 0.66046 valid_loss: 0.59215\n",
      "Validation loss decreased (0.606902 --> 0.592146).  Saving model ...\n",
      "[ 52/400] train_loss: 0.65958 valid_loss: 0.59103\n",
      "Validation loss decreased (0.592146 --> 0.591030).  Saving model ...\n",
      "[ 53/400] train_loss: 0.63715 valid_loss: 0.58894\n",
      "Validation loss decreased (0.591030 --> 0.588937).  Saving model ...\n",
      "[ 54/400] train_loss: 0.65175 valid_loss: 0.59190\n",
      "EarlyStopping counter: 1 out of 10\n",
      "[ 55/400] train_loss: 0.63849 valid_loss: 0.58174\n",
      "Validation loss decreased (0.588937 --> 0.581741).  Saving model ...\n",
      "[ 56/400] train_loss: 0.62891 valid_loss: 0.57907\n",
      "Validation loss decreased (0.581741 --> 0.579073).  Saving model ...\n",
      "[ 57/400] train_loss: 0.63632 valid_loss: 0.58379\n",
      "EarlyStopping counter: 1 out of 10\n",
      "[ 58/400] train_loss: 0.63424 valid_loss: 0.60236\n",
      "EarlyStopping counter: 2 out of 10\n",
      "[ 59/400] train_loss: 0.62809 valid_loss: 0.58643\n",
      "EarlyStopping counter: 3 out of 10\n",
      "[ 60/400] train_loss: 0.61747 valid_loss: 0.57960\n",
      "EarlyStopping counter: 4 out of 10\n",
      "[ 61/400] train_loss: 0.62061 valid_loss: 0.58786\n",
      "EarlyStopping counter: 5 out of 10\n",
      "[ 62/400] train_loss: 0.61595 valid_loss: 0.57153\n",
      "Validation loss decreased (0.579073 --> 0.571531).  Saving model ...\n",
      "[ 63/400] train_loss: 0.60319 valid_loss: 0.56665\n",
      "Validation loss decreased (0.571531 --> 0.566646).  Saving model ...\n",
      "[ 64/400] train_loss: 0.60019 valid_loss: 0.55707\n",
      "Validation loss decreased (0.566646 --> 0.557074).  Saving model ...\n",
      "[ 65/400] train_loss: 0.59649 valid_loss: 0.56470\n",
      "EarlyStopping counter: 1 out of 10\n",
      "[ 66/400] train_loss: 0.59573 valid_loss: 0.56466\n",
      "EarlyStopping counter: 2 out of 10\n",
      "[ 67/400] train_loss: 0.59734 valid_loss: 0.56663\n",
      "EarlyStopping counter: 3 out of 10\n",
      "[ 68/400] train_loss: 0.60591 valid_loss: 0.57074\n",
      "EarlyStopping counter: 4 out of 10\n",
      "[ 69/400] train_loss: 0.57965 valid_loss: 0.55658\n",
      "Validation loss decreased (0.557074 --> 0.556583).  Saving model ...\n",
      "[ 70/400] train_loss: 0.57780 valid_loss: 0.56276\n",
      "EarlyStopping counter: 1 out of 10\n",
      "[ 71/400] train_loss: 0.58437 valid_loss: 0.55455\n",
      "Validation loss decreased (0.556583 --> 0.554546).  Saving model ...\n",
      "[ 72/400] train_loss: 0.57584 valid_loss: 0.56758\n",
      "EarlyStopping counter: 1 out of 10\n",
      "[ 73/400] train_loss: 0.57628 valid_loss: 0.55089\n",
      "Validation loss decreased (0.554546 --> 0.550891).  Saving model ...\n",
      "[ 74/400] train_loss: 0.56521 valid_loss: 0.54290\n",
      "Validation loss decreased (0.550891 --> 0.542896).  Saving model ...\n",
      "[ 75/400] train_loss: 0.56515 valid_loss: 0.55711\n",
      "EarlyStopping counter: 1 out of 10\n",
      "[ 76/400] train_loss: 0.56529 valid_loss: 0.54521\n",
      "EarlyStopping counter: 2 out of 10\n",
      "[ 77/400] train_loss: 0.56552 valid_loss: 0.54577\n",
      "EarlyStopping counter: 3 out of 10\n",
      "[ 78/400] train_loss: 0.56555 valid_loss: 0.54160\n",
      "Validation loss decreased (0.542896 --> 0.541600).  Saving model ...\n"
     ]
    },
    {
     "name": "stdout",
     "output_type": "stream",
     "text": [
      "[ 79/400] train_loss: 0.54790 valid_loss: 0.55223\n",
      "EarlyStopping counter: 1 out of 10\n",
      "[ 80/400] train_loss: 0.55313 valid_loss: 0.54591\n",
      "EarlyStopping counter: 2 out of 10\n",
      "[ 81/400] train_loss: 0.55625 valid_loss: 0.54879\n",
      "EarlyStopping counter: 3 out of 10\n",
      "[ 82/400] train_loss: 0.54993 valid_loss: 0.54389\n",
      "EarlyStopping counter: 4 out of 10\n",
      "[ 83/400] train_loss: 0.55356 valid_loss: 0.54994\n",
      "EarlyStopping counter: 5 out of 10\n",
      "[ 84/400] train_loss: 0.56670 valid_loss: 0.54963\n",
      "EarlyStopping counter: 6 out of 10\n",
      "[ 85/400] train_loss: 0.54919 valid_loss: 0.54193\n",
      "EarlyStopping counter: 7 out of 10\n",
      "[ 86/400] train_loss: 0.53799 valid_loss: 0.54158\n",
      "Validation loss decreased (0.541600 --> 0.541583).  Saving model ...\n",
      "[ 87/400] train_loss: 0.54042 valid_loss: 0.53719\n",
      "Validation loss decreased (0.541583 --> 0.537194).  Saving model ...\n",
      "[ 88/400] train_loss: 0.54730 valid_loss: 0.54277\n",
      "EarlyStopping counter: 1 out of 10\n",
      "[ 89/400] train_loss: 0.53977 valid_loss: 0.53526\n",
      "Validation loss decreased (0.537194 --> 0.535256).  Saving model ...\n",
      "[ 90/400] train_loss: 0.53162 valid_loss: 0.52656\n",
      "Validation loss decreased (0.535256 --> 0.526559).  Saving model ...\n",
      "[ 91/400] train_loss: 0.52465 valid_loss: 0.53615\n",
      "EarlyStopping counter: 1 out of 10\n",
      "[ 92/400] train_loss: 0.52655 valid_loss: 0.53306\n",
      "EarlyStopping counter: 2 out of 10\n",
      "[ 93/400] train_loss: 0.51875 valid_loss: 0.53527\n",
      "EarlyStopping counter: 3 out of 10\n",
      "[ 94/400] train_loss: 0.52421 valid_loss: 0.53287\n",
      "EarlyStopping counter: 4 out of 10\n",
      "[ 95/400] train_loss: 0.52830 valid_loss: 0.53080\n",
      "EarlyStopping counter: 5 out of 10\n",
      "[ 96/400] train_loss: 0.53973 valid_loss: 0.52530\n",
      "Validation loss decreased (0.526559 --> 0.525300).  Saving model ...\n",
      "[ 97/400] train_loss: 0.53505 valid_loss: 0.53870\n",
      "EarlyStopping counter: 1 out of 10\n",
      "[ 98/400] train_loss: 0.52586 valid_loss: 0.52977\n",
      "EarlyStopping counter: 2 out of 10\n",
      "[ 99/400] train_loss: 0.51375 valid_loss: 0.52210\n",
      "Validation loss decreased (0.525300 --> 0.522103).  Saving model ...\n",
      "[100/400] train_loss: 0.52167 valid_loss: 0.52906\n",
      "EarlyStopping counter: 1 out of 10\n",
      "[101/400] train_loss: 0.53236 valid_loss: 0.52702\n",
      "EarlyStopping counter: 2 out of 10\n",
      "[102/400] train_loss: 0.52923 valid_loss: 0.51857\n",
      "Validation loss decreased (0.522103 --> 0.518568).  Saving model ...\n",
      "[103/400] train_loss: 0.52434 valid_loss: 0.53658\n",
      "EarlyStopping counter: 1 out of 10\n",
      "[104/400] train_loss: 0.51686 valid_loss: 0.51706\n",
      "Validation loss decreased (0.518568 --> 0.517063).  Saving model ...\n",
      "[105/400] train_loss: 0.51579 valid_loss: 0.51924\n",
      "EarlyStopping counter: 1 out of 10\n",
      "[106/400] train_loss: 0.50754 valid_loss: 0.51639\n",
      "Validation loss decreased (0.517063 --> 0.516387).  Saving model ...\n",
      "[107/400] train_loss: 0.50603 valid_loss: 0.52049\n",
      "EarlyStopping counter: 1 out of 10\n",
      "[108/400] train_loss: 0.50274 valid_loss: 0.51368\n",
      "Validation loss decreased (0.516387 --> 0.513675).  Saving model ...\n",
      "[109/400] train_loss: 0.49407 valid_loss: 0.50629\n",
      "Validation loss decreased (0.513675 --> 0.506286).  Saving model ...\n",
      "[110/400] train_loss: 0.49771 valid_loss: 0.51720\n",
      "EarlyStopping counter: 1 out of 10\n",
      "[111/400] train_loss: 0.49561 valid_loss: 0.51719\n",
      "EarlyStopping counter: 2 out of 10\n",
      "[112/400] train_loss: 0.49039 valid_loss: 0.51692\n",
      "EarlyStopping counter: 3 out of 10\n",
      "[113/400] train_loss: 0.49961 valid_loss: 0.50980\n",
      "EarlyStopping counter: 4 out of 10\n",
      "[114/400] train_loss: 0.49745 valid_loss: 0.51526\n",
      "EarlyStopping counter: 5 out of 10\n",
      "[115/400] train_loss: 0.49797 valid_loss: 0.51994\n",
      "EarlyStopping counter: 6 out of 10\n",
      "[116/400] train_loss: 0.49458 valid_loss: 0.51354\n",
      "EarlyStopping counter: 7 out of 10\n",
      "[117/400] train_loss: 0.49004 valid_loss: 0.51009\n",
      "EarlyStopping counter: 8 out of 10\n",
      "[118/400] train_loss: 0.48653 valid_loss: 0.51037\n",
      "EarlyStopping counter: 9 out of 10\n",
      "[119/400] train_loss: 0.48622 valid_loss: 0.51679\n",
      "EarlyStopping counter: 10 out of 10\n",
      "Early stopping\n"
     ]
    }
   ],
   "source": [
    "model, train_loss, valid_loss = train_model(net, patience, n_epochs, device)"
   ]
  },
  {
   "cell_type": "markdown",
   "metadata": {},
   "source": [
    "### График функции потерь"
   ]
  },
  {
   "cell_type": "code",
   "execution_count": 16,
   "metadata": {},
   "outputs": [
    {
     "data": {
      "image/png": "[encoded data removed]",
      "text/plain": [
       "<Figure size 432x288 with 1 Axes>"
      ]
     },
     "metadata": {
      "needs_background": "light"
     },
     "output_type": "display_data"
    }
   ],
   "source": [
    "fig = plt.figure(figsize=(6,4))\n",
    "plt.plot(range(1,len(train_loss)+1),train_loss, label='Training Loss')\n",
    "plt.plot(range(1,len(valid_loss)+1),valid_loss,label='Validation Loss')\n",
    "\n",
    "minposs = valid_loss.index(min(valid_loss))+1 \n",
    "plt.axvline(minposs, linestyle='--', color='r',label='Early Stopping Checkpoint')\n",
    "\n",
    "plt.xlabel('epochs')\n",
    "plt.ylabel('loss')\n",
    "plt.ylim(0, 2.5)\n",
    "plt.xlim(0, len(train_loss)+1)\n",
    "plt.grid(True)\n",
    "plt.legend()\n",
    "plt.show()"
   ]
  },
  {
   "cell_type": "markdown",
   "metadata": {},
   "source": [
    "### Проверка на отложенном даатсете"
   ]
  },
  {
   "cell_type": "code",
   "execution_count": 25,
   "metadata": {
    "scrolled": true
   },
   "outputs": [
    {
     "name": "stdout",
     "output_type": "stream",
     "text": [
      "Test Loss: 0.389090\n",
      "\n",
      "Test Accuracy of plane: 84.41% (682/808)\n",
      "Test Accuracy of car: 93.88% (783/834)\n",
      "Test Accuracy of bird: 76.63% (636/830)\n",
      "Test Accuracy of cat: 66.91% (546/816)\n",
      "Test Accuracy of deer: 84.27% (691/820)\n",
      "Test Accuracy of dog: 80.63% (670/831)\n",
      "Test Accuracy of frog: 88.82% (723/814)\n",
      "Test Accuracy of horse: 85.36% (694/813)\n",
      "Test Accuracy of ship: 89.47% (731/817)\n",
      "Test Accuracy of truck: 92.58% (749/809)\n",
      "\n",
      "Test Accuracy (Overall): 84.29% (6905/8192)\n"
     ]
    }
   ],
   "source": [
    "test_loss = 0.0\n",
    "class_correct = [0] * num_classes\n",
    "class_total = [0] * num_classes\n",
    "\n",
    "model.eval()\n",
    "\n",
    "for batch, data in enumerate(test_loader, 1):\n",
    "    data, target = data[0].to(device), data[1].to(device)\n",
    "    if len(target.data) != batch_size:\n",
    "        break\n",
    "    output = model(data)\n",
    "    loss = criterion(output, target)\n",
    "    test_loss += loss.item() * data.size(0)\n",
    "    \n",
    "    # for multiclass: _, pred = torch.max(output, 1)\n",
    "    _, pred = torch.max(output, 1)\n",
    "    \n",
    "    correct = np.squeeze(pred.eq(target.data))\n",
    "\n",
    "    for i in range(batch_size):\n",
    "        label = target.data[i]\n",
    "        label = label.int()\n",
    "        class_correct[label] += correct[i].item()\n",
    "        class_total[label] += 1\n",
    "\n",
    "test_loss = test_loss / len(test_loader.dataset)\n",
    "print(f'Test Loss: {test_loss:.6f}\\n')\n",
    "\n",
    "for i in range(num_classes):\n",
    "    if class_total[i] > 0:\n",
    "        class_accuracy = 100 * class_correct[i] / class_total[i]\n",
    "        print(f'Test Accuracy of {classes[i]}: {class_accuracy:.2f}% '\\\n",
    "              f'({np.sum(class_correct[i])}/{np.sum(class_total[i])})')\n",
    "              \n",
    "    else:\n",
    "        print(f'Test Accuracy of {classes[i]}: N/A (no training examples)')\n",
    "\n",
    "overall_accuracy = 100. * np.sum(class_correct) / np.sum(class_total)\n",
    "print(f'\\nTest Accuracy (Overall): {overall_accuracy:.2f}% '\\\n",
    "      f'({np.sum(class_correct)}/{np.sum(class_total)})')"
   ]
  },
  {
   "cell_type": "code",
   "execution_count": 26,
   "metadata": {},
   "outputs": [],
   "source": [
    "del train_loader\n",
    "del test_loader\n",
    "del val_loader\n",
    "del net\n",
    "del data\n",
    "del target\n",
    "torch.cuda.empty_cache()"
   ]
  },
  {
   "cell_type": "markdown",
   "metadata": {},
   "source": [
    "## Задание 2"
   ]
  },
  {
   "cell_type": "markdown",
   "metadata": {},
   "source": [
    "Переписать данный туториал на pytorch: https://www.tensorflow.org/tutorials/quickstart/beginner?hl=ru"
   ]
  },
  {
   "cell_type": "code",
   "execution_count": 27,
   "metadata": {},
   "outputs": [],
   "source": [
    "n_epochs = 5\n",
    "batch_size = 64"
   ]
  },
  {
   "cell_type": "code",
   "execution_count": 28,
   "metadata": {},
   "outputs": [],
   "source": [
    "train_dataset = torchvision.datasets.MNIST(root='./data_mnist',\n",
    "                                           train=True,  \n",
    "                                           transform=transforms.ToTensor(),\n",
    "                                           download=True)\n",
    "\n",
    "test_dataset = torchvision.datasets.MNIST(root='./data_mnist', \n",
    "                                          train=False,\n",
    "                                          download=True, \n",
    "                                          transform=transforms.ToTensor())"
   ]
  },
  {
   "cell_type": "code",
   "execution_count": 29,
   "metadata": {},
   "outputs": [],
   "source": [
    "from torch.utils import data\n",
    "\n",
    "train_loader = data.DataLoader(train_dataset, batch_size=batch_size)\n",
    "test_loader = data.DataLoader(test_dataset, batch_size=batch_size)"
   ]
  },
  {
   "cell_type": "code",
   "execution_count": 30,
   "metadata": {},
   "outputs": [],
   "source": [
    "class Net(nn.Module):\n",
    "    def __init__(self):\n",
    "        super().__init__()\n",
    "        self.flatten = nn.Flatten()\n",
    "        self.fc1 = nn.Linear(28 * 28, 128)\n",
    "        self.dropout = nn.Dropout(0.2)\n",
    "        self.fc2 = nn.Linear(128, 10)\n",
    "        \n",
    "    def forward(self, x):\n",
    "        x = self.flatten(x)\n",
    "        x = F.relu(self.fc1(x))\n",
    "        x = self.dropout(x)\n",
    "        x = F.log_softmax(self.fc2(x), dim=1)\n",
    "        \n",
    "        return x\n",
    "    \n",
    "model = Net().to(device)"
   ]
  },
  {
   "cell_type": "code",
   "execution_count": 31,
   "metadata": {},
   "outputs": [],
   "source": [
    "criterion = nn.NLLLoss()\n",
    "optimizer = optim.Adam(model.parameters())"
   ]
  },
  {
   "cell_type": "code",
   "execution_count": 32,
   "metadata": {},
   "outputs": [
    {
     "name": "stdout",
     "output_type": "stream",
     "text": [
      "[1/5] train_loss: 0.38672 \n",
      "[2/5] train_loss: 0.18552 \n",
      "[3/5] train_loss: 0.13761 \n",
      "[4/5] train_loss: 0.11200 \n",
      "[5/5] train_loss: 0.09418 \n"
     ]
    }
   ],
   "source": [
    "train_losses = []\n",
    "avg_train_losses = [] \n",
    "\n",
    "for epoch in range(1, n_epochs + 1):\n",
    "    model.train()\n",
    "    for batch, data in enumerate(train_loader, 1):\n",
    "        data, target = data[0].to(device), data[1].to(device)\n",
    "        optimizer.zero_grad()\n",
    "        output = model(data)\n",
    "        loss = criterion(output, target)\n",
    "        loss.backward()\n",
    "        optimizer.step()\n",
    "        train_losses.append(loss.item())\n",
    "\n",
    "    train_loss = np.average(train_losses)\n",
    "    avg_train_losses.append(train_loss)\n",
    "\n",
    "    epoch_len = len(str(n_epochs))\n",
    "\n",
    "    print_msg = (f'[{epoch:>{epoch_len}}/{n_epochs:>{epoch_len}}] ' +\n",
    "                 f'train_loss: {train_loss:.5f} ')\n",
    "\n",
    "    print(print_msg)\n",
    "\n",
    "    train_losses = []"
   ]
  },
  {
   "cell_type": "code",
   "execution_count": 33,
   "metadata": {},
   "outputs": [
    {
     "name": "stdout",
     "output_type": "stream",
     "text": [
      "\n",
      "Test set: Average loss: 0.0914, Accuracy: 9724/10000 (97%)\n",
      "\n"
     ]
    }
   ],
   "source": [
    "model.eval()\n",
    "test_loss = 0\n",
    "correct = 0\n",
    "with torch.no_grad():\n",
    "    for data, target in test_loader:\n",
    "        data, target = data.to(device), target.to(device)\n",
    "        output = model(data)\n",
    "        test_loss += F.nll_loss(output, target, reduction='sum').item()  # sum up batch loss\n",
    "        pred = output.argmax(dim=1, keepdim=True)  # get the index of the max log-probability\n",
    "        correct += pred.eq(target.view_as(pred)).sum().item()\n",
    "\n",
    "test_loss /= len(test_loader.dataset)\n",
    "\n",
    "print('\\nTest set: Average loss: {:.4f}, Accuracy: {}/{} ({:.0f}%)\\n'.format(\n",
    "    test_loss, correct, len(test_loader.dataset),\n",
    "    100. * correct / len(test_loader.dataset)))"
   ]
  },
  {
   "cell_type": "code",
   "execution_count": null,
   "metadata": {},
   "outputs": [],
   "source": []
  }
 ],
 "metadata": {
  "kernelspec": {
   "display_name": "Python 3",
   "language": "python",
   "name": "python3"
  },
  "language_info": {
   "codemirror_mode": {
    "name": "ipython",
    "version": 3
   },
   "file_extension": ".py",
   "mimetype": "text/x-python",
   "name": "python",
   "nbconvert_exporter": "python",
   "pygments_lexer": "ipython3",
   "version": "3.8.5"
  }
 },
 "nbformat": 4,
 "nbformat_minor": 4
}
